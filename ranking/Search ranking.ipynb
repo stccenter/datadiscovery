{
 "cells": [
  {
   "cell_type": "markdown",
   "metadata": {},
   "source": [
    "# Using deep learning and training data created from user clicks"
   ]
  },
  {
   "cell_type": "code",
   "execution_count": 241,
   "metadata": {
    "collapsed": true,
    "deletable": true,
    "editable": true
   },
   "outputs": [],
   "source": [
    "%matplotlib inline\n",
    "import pandas as pd\n",
    "import numpy as np\n",
    "\n",
    "from matplotlib import pyplot as plt\n",
    "from sklearn.model_selection import train_test_split"
   ]
  },
  {
   "cell_type": "markdown",
   "metadata": {
    "deletable": true,
    "editable": true
   },
   "source": [
    "Import training data set from pre-created csv file"
   ]
  },
  {
   "cell_type": "code",
   "execution_count": 242,
   "metadata": {
    "collapsed": false,
    "deletable": true,
    "editable": true
   },
   "outputs": [],
   "source": [
    "dataframe = pd.read_csv(\"data/auto_training_for_ipy.csv\")\n",
    "train_features = dataframe.ix[:,0:10]\n",
    "train_labels = dataframe.ix[:,10:11]\n",
    "train_labels['label'] = train_labels['label'].astype(int)\n",
    "train_labels['label'] = train_labels['label'].map({-1: 0, 1: 1})"
   ]
  },
  {
   "cell_type": "code",
   "execution_count": 243,
   "metadata": {
    "collapsed": false,
    "deletable": true,
    "editable": true
   },
   "outputs": [
    {
     "name": "stdout",
     "output_type": "stream",
     "text": [
      "features:  (2998, 10)\n",
      "labels  :  (2998, 1)\n"
     ]
    }
   ],
   "source": [
    "print('features: ', train_features.shape)\n",
    "print('labels  : ', train_labels.shape)"
   ]
  },
  {
   "cell_type": "code",
   "execution_count": 244,
   "metadata": {
    "collapsed": false,
    "deletable": true,
    "editable": true,
    "scrolled": true
   },
   "outputs": [
    {
     "data": {
      "text/html": [
       "<div>\n",
       "<table border=\"1\" class=\"dataframe\">\n",
       "  <thead>\n",
       "    <tr style=\"text-align: right;\">\n",
       "      <th></th>\n",
       "      <th>term_score</th>\n",
       "      <th>releaseDate_score</th>\n",
       "      <th>versionNum_score</th>\n",
       "      <th>processingL_score</th>\n",
       "      <th>allPop_score</th>\n",
       "      <th>monthPop_score</th>\n",
       "      <th>userPop_score</th>\n",
       "      <th>spatialR_score</th>\n",
       "      <th>temporalR_score</th>\n",
       "      <th>click_score</th>\n",
       "    </tr>\n",
       "  </thead>\n",
       "  <tbody>\n",
       "    <tr>\n",
       "      <th>0</th>\n",
       "      <td>0.71</td>\n",
       "      <td>-2.780000e+10</td>\n",
       "      <td>2.0</td>\n",
       "      <td>-1</td>\n",
       "      <td>-92</td>\n",
       "      <td>133</td>\n",
       "      <td>-180</td>\n",
       "      <td>109.89</td>\n",
       "      <td>144.0</td>\n",
       "      <td>0</td>\n",
       "    </tr>\n",
       "    <tr>\n",
       "      <th>1</th>\n",
       "      <td>1.51</td>\n",
       "      <td>-1.080000e+11</td>\n",
       "      <td>-19.0</td>\n",
       "      <td>1</td>\n",
       "      <td>-314</td>\n",
       "      <td>-99</td>\n",
       "      <td>-892</td>\n",
       "      <td>-389.00</td>\n",
       "      <td>0.0</td>\n",
       "      <td>13</td>\n",
       "    </tr>\n",
       "    <tr>\n",
       "      <th>2</th>\n",
       "      <td>1.69</td>\n",
       "      <td>-3.350000e+11</td>\n",
       "      <td>-3.0</td>\n",
       "      <td>0</td>\n",
       "      <td>-27</td>\n",
       "      <td>-47</td>\n",
       "      <td>-402</td>\n",
       "      <td>-108.78</td>\n",
       "      <td>-15108.0</td>\n",
       "      <td>2</td>\n",
       "    </tr>\n",
       "    <tr>\n",
       "      <th>3</th>\n",
       "      <td>6.59</td>\n",
       "      <td>9.680000e+09</td>\n",
       "      <td>19.0</td>\n",
       "      <td>1</td>\n",
       "      <td>-8</td>\n",
       "      <td>-73</td>\n",
       "      <td>188</td>\n",
       "      <td>-16.12</td>\n",
       "      <td>5016.0</td>\n",
       "      <td>0</td>\n",
       "    </tr>\n",
       "    <tr>\n",
       "      <th>4</th>\n",
       "      <td>2.44</td>\n",
       "      <td>3.970000e+10</td>\n",
       "      <td>-19.0</td>\n",
       "      <td>-1</td>\n",
       "      <td>692</td>\n",
       "      <td>257</td>\n",
       "      <td>567</td>\n",
       "      <td>4.56</td>\n",
       "      <td>-5028.0</td>\n",
       "      <td>-25</td>\n",
       "    </tr>\n",
       "  </tbody>\n",
       "</table>\n",
       "</div>"
      ],
      "text/plain": [
       "   term_score  releaseDate_score  versionNum_score  processingL_score  \\\n",
       "0        0.71      -2.780000e+10               2.0                 -1   \n",
       "1        1.51      -1.080000e+11             -19.0                  1   \n",
       "2        1.69      -3.350000e+11              -3.0                  0   \n",
       "3        6.59       9.680000e+09              19.0                  1   \n",
       "4        2.44       3.970000e+10             -19.0                 -1   \n",
       "\n",
       "   allPop_score  monthPop_score  userPop_score  spatialR_score  \\\n",
       "0           -92             133           -180          109.89   \n",
       "1          -314             -99           -892         -389.00   \n",
       "2           -27             -47           -402         -108.78   \n",
       "3            -8             -73            188          -16.12   \n",
       "4           692             257            567            4.56   \n",
       "\n",
       "   temporalR_score  click_score  \n",
       "0            144.0            0  \n",
       "1              0.0           13  \n",
       "2         -15108.0            2  \n",
       "3           5016.0            0  \n",
       "4          -5028.0          -25  "
      ]
     },
     "execution_count": 244,
     "metadata": {},
     "output_type": "execute_result"
    }
   ],
   "source": [
    "train_features.head()"
   ]
  },
  {
   "cell_type": "code",
   "execution_count": 245,
   "metadata": {
    "collapsed": false
   },
   "outputs": [
    {
     "data": {
      "text/html": [
       "<div>\n",
       "<table border=\"1\" class=\"dataframe\">\n",
       "  <thead>\n",
       "    <tr style=\"text-align: right;\">\n",
       "      <th></th>\n",
       "      <th>term_score</th>\n",
       "      <th>releaseDate_score</th>\n",
       "      <th>versionNum_score</th>\n",
       "      <th>processingL_score</th>\n",
       "      <th>allPop_score</th>\n",
       "      <th>monthPop_score</th>\n",
       "      <th>userPop_score</th>\n",
       "      <th>spatialR_score</th>\n",
       "      <th>temporalR_score</th>\n",
       "      <th>click_score</th>\n",
       "    </tr>\n",
       "  </thead>\n",
       "  <tbody>\n",
       "    <tr>\n",
       "      <th>count</th>\n",
       "      <td>2998.000000</td>\n",
       "      <td>2.998000e+03</td>\n",
       "      <td>2998.000000</td>\n",
       "      <td>2998.000000</td>\n",
       "      <td>2998.000000</td>\n",
       "      <td>2998.000000</td>\n",
       "      <td>2998.000000</td>\n",
       "      <td>2998.000000</td>\n",
       "      <td>2.998000e+03</td>\n",
       "      <td>2998.000000</td>\n",
       "    </tr>\n",
       "    <tr>\n",
       "      <th>mean</th>\n",
       "      <td>1.930040</td>\n",
       "      <td>-1.920570e+10</td>\n",
       "      <td>-3.415710</td>\n",
       "      <td>0.101067</td>\n",
       "      <td>-72.448632</td>\n",
       "      <td>-1.579720</td>\n",
       "      <td>-113.866578</td>\n",
       "      <td>-16.695013</td>\n",
       "      <td>-8.413122e+04</td>\n",
       "      <td>3.402935</td>\n",
       "    </tr>\n",
       "    <tr>\n",
       "      <th>std</th>\n",
       "      <td>4.392566</td>\n",
       "      <td>2.737896e+11</td>\n",
       "      <td>10.628665</td>\n",
       "      <td>0.935771</td>\n",
       "      <td>475.795673</td>\n",
       "      <td>280.923559</td>\n",
       "      <td>477.643275</td>\n",
       "      <td>1237.701241</td>\n",
       "      <td>6.286458e+05</td>\n",
       "      <td>37.015202</td>\n",
       "    </tr>\n",
       "    <tr>\n",
       "      <th>min</th>\n",
       "      <td>-14.230000</td>\n",
       "      <td>-2.890000e+12</td>\n",
       "      <td>-20.000000</td>\n",
       "      <td>-2.000000</td>\n",
       "      <td>-998.000000</td>\n",
       "      <td>-712.000000</td>\n",
       "      <td>-997.000000</td>\n",
       "      <td>-27298.000000</td>\n",
       "      <td>-1.839600e+06</td>\n",
       "      <td>-475.000000</td>\n",
       "    </tr>\n",
       "    <tr>\n",
       "      <th>25%</th>\n",
       "      <td>0.330000</td>\n",
       "      <td>-1.910000e+11</td>\n",
       "      <td>-16.000000</td>\n",
       "      <td>-1.000000</td>\n",
       "      <td>-430.000000</td>\n",
       "      <td>-196.750000</td>\n",
       "      <td>-481.000000</td>\n",
       "      <td>-20.560000</td>\n",
       "      <td>-6.480000e+02</td>\n",
       "      <td>0.000000</td>\n",
       "    </tr>\n",
       "    <tr>\n",
       "      <th>50%</th>\n",
       "      <td>1.740000</td>\n",
       "      <td>-3.890000e+09</td>\n",
       "      <td>0.000000</td>\n",
       "      <td>0.000000</td>\n",
       "      <td>-56.500000</td>\n",
       "      <td>-4.000000</td>\n",
       "      <td>-95.500000</td>\n",
       "      <td>0.000000</td>\n",
       "      <td>0.000000e+00</td>\n",
       "      <td>0.000000</td>\n",
       "    </tr>\n",
       "    <tr>\n",
       "      <th>75%</th>\n",
       "      <td>3.247500</td>\n",
       "      <td>3.920000e+10</td>\n",
       "      <td>0.000000</td>\n",
       "      <td>1.000000</td>\n",
       "      <td>242.000000</td>\n",
       "      <td>187.000000</td>\n",
       "      <td>168.000000</td>\n",
       "      <td>15.885000</td>\n",
       "      <td>1.200000e+01</td>\n",
       "      <td>2.000000</td>\n",
       "    </tr>\n",
       "    <tr>\n",
       "      <th>max</th>\n",
       "      <td>13.850000</td>\n",
       "      <td>2.990000e+12</td>\n",
       "      <td>20.000000</td>\n",
       "      <td>3.000000</td>\n",
       "      <td>997.000000</td>\n",
       "      <td>727.000000</td>\n",
       "      <td>999.000000</td>\n",
       "      <td>27283.800000</td>\n",
       "      <td>1.839600e+06</td>\n",
       "      <td>555.000000</td>\n",
       "    </tr>\n",
       "  </tbody>\n",
       "</table>\n",
       "</div>"
      ],
      "text/plain": [
       "        term_score  releaseDate_score  versionNum_score  processingL_score  \\\n",
       "count  2998.000000       2.998000e+03       2998.000000        2998.000000   \n",
       "mean      1.930040      -1.920570e+10         -3.415710           0.101067   \n",
       "std       4.392566       2.737896e+11         10.628665           0.935771   \n",
       "min     -14.230000      -2.890000e+12        -20.000000          -2.000000   \n",
       "25%       0.330000      -1.910000e+11        -16.000000          -1.000000   \n",
       "50%       1.740000      -3.890000e+09          0.000000           0.000000   \n",
       "75%       3.247500       3.920000e+10          0.000000           1.000000   \n",
       "max      13.850000       2.990000e+12         20.000000           3.000000   \n",
       "\n",
       "       allPop_score  monthPop_score  userPop_score  spatialR_score  \\\n",
       "count   2998.000000     2998.000000    2998.000000     2998.000000   \n",
       "mean     -72.448632       -1.579720    -113.866578      -16.695013   \n",
       "std      475.795673      280.923559     477.643275     1237.701241   \n",
       "min     -998.000000     -712.000000    -997.000000   -27298.000000   \n",
       "25%     -430.000000     -196.750000    -481.000000      -20.560000   \n",
       "50%      -56.500000       -4.000000     -95.500000        0.000000   \n",
       "75%      242.000000      187.000000     168.000000       15.885000   \n",
       "max      997.000000      727.000000     999.000000    27283.800000   \n",
       "\n",
       "       temporalR_score  click_score  \n",
       "count     2.998000e+03  2998.000000  \n",
       "mean     -8.413122e+04     3.402935  \n",
       "std       6.286458e+05    37.015202  \n",
       "min      -1.839600e+06  -475.000000  \n",
       "25%      -6.480000e+02     0.000000  \n",
       "50%       0.000000e+00     0.000000  \n",
       "75%       1.200000e+01     2.000000  \n",
       "max       1.839600e+06   555.000000  "
      ]
     },
     "execution_count": 245,
     "metadata": {},
     "output_type": "execute_result"
    }
   ],
   "source": [
    "train_features.describe()"
   ]
  },
  {
   "cell_type": "markdown",
   "metadata": {
    "deletable": true,
    "editable": true
   },
   "source": [
    "Distribution of labels"
   ]
  },
  {
   "cell_type": "code",
   "execution_count": 246,
   "metadata": {
    "collapsed": false,
    "deletable": true,
    "editable": true
   },
   "outputs": [
    {
     "data": {
      "text/plain": [
       "<matplotlib.text.Text at 0x1208fedd8>"
      ]
     },
     "execution_count": 246,
     "metadata": {},
     "output_type": "execute_result"
    },
    {
     "data": {
      "image/png": "[encoded data removed]",
      "text/plain": [
       "<matplotlib.figure.Figure at 0x12090f780>"
      ]
     },
     "metadata": {},
     "output_type": "display_data"
    }
   ],
   "source": [
    "(train_features\n",
    "     .term_score\n",
    "     .plot\n",
    "     .line(lw=0.8))\n",
    "\n",
    "plt.title('Term score')\n",
    "plt.xlabel('ID')"
   ]
  },
  {
   "cell_type": "code",
   "execution_count": 247,
   "metadata": {
    "collapsed": false,
    "deletable": true,
    "editable": true
   },
   "outputs": [
    {
     "data": {
      "text/plain": [
       "<matplotlib.axes._subplots.AxesSubplot at 0x11ec45470>"
      ]
     },
     "execution_count": 247,
     "metadata": {},
     "output_type": "execute_result"
    },
    {
     "data": {
      "image/png": "[encoded data removed]",
      "text/plain": [
       "<matplotlib.figure.Figure at 0x1209656d8>"
      ]
     },
     "metadata": {},
     "output_type": "display_data"
    }
   ],
   "source": [
    "train_features.term_score.hist()"
   ]
  },
  {
   "cell_type": "code",
   "execution_count": 248,
   "metadata": {
    "collapsed": false,
    "deletable": true,
    "editable": true
   },
   "outputs": [
    {
     "name": "stdout",
     "output_type": "stream",
     "text": [
      "mean:  1.93004002668\n",
      "var : 19.2946365016\n"
     ]
    }
   ],
   "source": [
    "print('mean: ', train_features.mean()[0])\n",
    "print('var :', train_features.var()[0])"
   ]
  },
  {
   "cell_type": "markdown",
   "metadata": {
    "deletable": true,
    "editable": true
   },
   "source": [
    "To get a better understanding of the problem domain, take a look at the correlation matrix"
   ]
  },
  {
   "cell_type": "code",
   "execution_count": 249,
   "metadata": {
    "collapsed": false,
    "deletable": true,
    "editable": true
   },
   "outputs": [
    {
     "data": {
      "text/plain": [
       "<matplotlib.text.Text at 0x11db5bd68>"
      ]
     },
     "execution_count": 249,
     "metadata": {},
     "output_type": "execute_result"
    },
    {
     "data": {
      "image/png": "[encoded data removed]",
      "text/plain": [
       "<matplotlib.figure.Figure at 0x1208ea198>"
      ]
     },
     "metadata": {},
     "output_type": "display_data"
    }
   ],
   "source": [
    "import seaborn as sns\n",
    "correlations = train_features.corr()\n",
    "corr_heat = sns.heatmap(correlations)\n",
    "plt.title('Ranking feature Correlations')"
   ]
  },
  {
   "cell_type": "code",
   "execution_count": 250,
   "metadata": {
    "collapsed": false,
    "deletable": true,
    "editable": true
   },
   "outputs": [
    {
     "data": {
      "text/plain": [
       "<matplotlib.axes._subplots.AxesSubplot at 0x120a9b9b0>"
      ]
     },
     "execution_count": 250,
     "metadata": {},
     "output_type": "execute_result"
    },
    {
     "data": {
      "image/png": "[encoded data removed]",
      "text/plain": [
       "<matplotlib.figure.Figure at 0x11db572e8>"
      ]
     },
     "metadata": {},
     "output_type": "display_data"
    }
   ],
   "source": [
    "(correlations\n",
    "     .term_score\n",
    "     .drop('term_score') # don't compare with myself\n",
    "     .sort_values(ascending=False)\n",
    "     .plot\n",
    "     .barh())"
   ]
  },
  {
   "cell_type": "markdown",
   "metadata": {},
   "source": [
    "Import human labelled testing set"
   ]
  },
  {
   "cell_type": "code",
   "execution_count": 251,
   "metadata": {
    "collapsed": false
   },
   "outputs": [],
   "source": [
    "dataframe = pd.read_csv(\"data/humanlabelled_for_ipy.csv\")\n",
    "test_features = dataframe.ix[:,0:10]\n",
    "test_labels = dataframe.ix[:,10:11]\n",
    "test_labels['label'] = test_labels['label'].astype(int)\n",
    "test_labels['label'] = test_labels['label'].map({-1: 0, 1: 1})"
   ]
  },
  {
   "cell_type": "code",
   "execution_count": 252,
   "metadata": {
    "collapsed": false,
    "scrolled": true
   },
   "outputs": [],
   "source": [
    "from sklearn import preprocessing\n",
    "# Train data with DL model\n",
    "from keras.models import Sequential\n",
    "from keras.layers import Dense, Dropout, Activation\n",
    "from keras.utils import plot_model\n",
    "from keras.utils import np_utils"
   ]
  },
  {
   "cell_type": "markdown",
   "metadata": {},
   "source": [
    "Data scaling"
   ]
  },
  {
   "cell_type": "code",
   "execution_count": 253,
   "metadata": {
    "collapsed": true
   },
   "outputs": [],
   "source": [
    "scaler = preprocessing.StandardScaler().fit(train_features)\n",
    "train_features = scaler.transform(train_features)\n",
    "test_features =  scaler.transform(test_features)\n",
    "train_labels = np_utils.to_categorical(train_labels, num_classes=2)\n",
    "test_labels = np_utils.to_categorical(test_labels, num_classes=2)"
   ]
  },
  {
   "cell_type": "markdown",
   "metadata": {},
   "source": [
    "Build a sequential NN model"
   ]
  },
  {
   "cell_type": "code",
   "execution_count": 254,
   "metadata": {
    "collapsed": true
   },
   "outputs": [],
   "source": [
    "model = Sequential()\n",
    "model.add(Dense(8, input_dim=10, activation='relu'))\n",
    "model.add(Dense(6, activation='relu'))\n",
    "model.add(Dense(4, activation='relu'))\n",
    "# model.add(Dropout(0.5))\n",
    "model.add(Dense(2, activation='softmax'))\n",
    "model.compile(optimizer='rmsprop',\n",
    "              loss='binary_crossentropy',\n",
    "              metrics=['accuracy'])"
   ]
  },
  {
   "cell_type": "code",
   "execution_count": 255,
   "metadata": {
    "collapsed": false
   },
   "outputs": [],
   "source": [
    "# train_loss_and_metrics = model.fit(train_features, train_labels, epochs = 5, batch_size = 32)\n",
    "# print(train_loss_and_metrics)\n",
    "# test_loss_and_metrics = model.evaluate(test_features, test_labels, batch_size=128)\n",
    "# print(test_loss_and_metrics)"
   ]
  },
  {
   "cell_type": "code",
   "execution_count": null,
   "metadata": {
    "collapsed": false
   },
   "outputs": [],
   "source": [
    "test_accuracy = [];\n",
    "test_loss = [];\n",
    "train_accuracy = [];\n",
    "train_loss = [];\n",
    "\n",
    "increment = 64\n",
    "chunks_train_data = [train_features[x:x+increment] for x in range(0, len(train_features), increment)]\n",
    "chunks_train_labels = [train_labels[x:x+increment] for x in range(0, len(train_features), increment)]\n",
    "\n",
    "for epoch in range(0, 2):\n",
    "    for i, el in enumerate(chunks_train_data):\n",
    "        print(i)\n",
    "        train_loss_and_metrics = model.train_on_batch(el, chunks_train_labels[i])\n",
    "        #print(train_loss_and_metrics)\n",
    "        train_loss.append(train_loss_and_metrics[0])\n",
    "        train_accuracy.append(train_loss_and_metrics[1])\n",
    "        test_loss_and_metrics = model.evaluate(test_features, test_labels, batch_size=128)\n",
    "        #print(test_loss_and_metrics)\n",
    "        test_loss.append(test_loss_and_metrics[0])\n",
    "        test_accuracy.append(test_loss_and_metrics[1])"
   ]
  },
  {
   "cell_type": "markdown",
   "metadata": {},
   "source": [
    "Visualize the learning curve"
   ]
  },
  {
   "cell_type": "code",
   "execution_count": 257,
   "metadata": {
    "collapsed": false
   },
   "outputs": [
    {
     "data": {
      "text/plain": [
       "<matplotlib.legend.Legend at 0x1149fe668>"
      ]
     },
     "execution_count": 257,
     "metadata": {},
     "output_type": "execute_result"
    },
    {
     "data": {
      "image/png": "[encoded data removed]",
      "text/plain": [
       "<matplotlib.figure.Figure at 0x1214c5080>"
      ]
     },
     "metadata": {},
     "output_type": "display_data"
    }
   ],
   "source": [
    "fig = plt.figure()\n",
    "\n",
    "ax1 = fig.add_subplot(211)\n",
    "ax1.plot(train_loss)\n",
    "ax1.plot(test_loss)\n",
    "ax1.set_ylabel('Loss')\n",
    "ax1.set_xlabel('Iteration')\n",
    "ax1.legend(['training', 'testing'], loc='upper left')\n",
    "\n",
    "ax2 = fig.add_subplot(212)\n",
    "ax2.plot(train_accuracy)\n",
    "ax2.plot(test_accuracy)\n",
    "ax2.set_ylabel('Accuracy')\n",
    "# ax2.set_xlabel('Iteration')\n",
    "ax2.legend(['training', 'testing'], loc='upper left')"
   ]
  },
  {
   "cell_type": "code",
   "execution_count": null,
   "metadata": {
    "collapsed": true
   },
   "outputs": [],
   "source": []
  }
 ],
 "metadata": {
  "kernelspec": {
   "display_name": "Python 3",
   "language": "python",
   "name": "python3"
  },
  "language_info": {
   "codemirror_mode": {
    "name": "ipython",
    "version": 3
   },
   "file_extension": ".py",
   "mimetype": "text/x-python",
   "name": "python",
   "nbconvert_exporter": "python",
   "pygments_lexer": "ipython3",
   "version": "3.5.3"
  }
 },
 "nbformat": 4,
 "nbformat_minor": 2
}
